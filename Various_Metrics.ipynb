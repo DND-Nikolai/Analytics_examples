{
 "cells": [
  {
   "cell_type": "markdown",
   "id": "574b21a0",
   "metadata": {},
   "source": [
    "#### 🚀🪐 Список будет постепенно обновляться новыми метриками 🌌🛸"
   ]
  },
  {
   "cell_type": "markdown",
   "id": "c638a284",
   "metadata": {},
   "source": [
    "<font color='red' size=5>**Представленные метрики перечислены по принципу:**</font>\n",
    "--\n",
    " 1. Название (аббревиатура, варианты на английском и на русском)\n",
    " 2. Описание (короткое описание)\n",
    " 3. Формула (будут создаваться с помощью LaTex)\n",
    " 4. Пример (для расчетов будут создаваться датафреймы с рандомными значениями с помощью Pandas/Numpy)\n",
    " 5. Интерпретация результата (что даёт результат?)\n"
   ]
  },
  {
   "cell_type": "markdown",
   "id": "13a30b98",
   "metadata": {},
   "source": [
    "-----"
   ]
  },
  {
   "cell_type": "markdown",
   "id": "6de698d2",
   "metadata": {},
   "source": [
    "<font color='fuchsia' size=5>ROI (Return on Investment — возврат инвестиций)</font>\n",
    "===\n",
    "метрика показывает возврат инвестиций от вложенных денег в маркетинг\n",
    "--\n",
    "<font color='green' size=5>формула:</font>\n",
    "    $\\LARGE ROI=\\frac{(\\text{Доход - Расходы})}{\\text{Расходы на маркетинг}}*100 \\%$"
   ]
  },
  {
   "cell_type": "markdown",
   "id": "9ae70fcf",
   "metadata": {},
   "source": [
    "<font color='brown' size=5>пример:</font>"
   ]
  },
  {
   "cell_type": "code",
   "execution_count": 1,
   "id": "a9fdc7c0",
   "metadata": {
    "scrolled": false
   },
   "outputs": [
    {
     "data": {
      "text/html": [
       "<div>\n",
       "<style scoped>\n",
       "    .dataframe tbody tr th:only-of-type {\n",
       "        vertical-align: middle;\n",
       "    }\n",
       "\n",
       "    .dataframe tbody tr th {\n",
       "        vertical-align: top;\n",
       "    }\n",
       "\n",
       "    .dataframe thead th {\n",
       "        text-align: right;\n",
       "    }\n",
       "</style>\n",
       "<table border=\"1\" class=\"dataframe\">\n",
       "  <thead>\n",
       "    <tr style=\"text-align: right;\">\n",
       "      <th></th>\n",
       "      <th>Месяц</th>\n",
       "      <th>Доходы</th>\n",
       "      <th>Расходы</th>\n",
       "      <th>Расходы на маркетинг</th>\n",
       "      <th>ROI (в %)</th>\n",
       "    </tr>\n",
       "  </thead>\n",
       "  <tbody>\n",
       "    <tr>\n",
       "      <th>0</th>\n",
       "      <td>Январь</td>\n",
       "      <td>102732</td>\n",
       "      <td>105000</td>\n",
       "      <td>5000</td>\n",
       "      <td>-45.0</td>\n",
       "    </tr>\n",
       "    <tr>\n",
       "      <th>1</th>\n",
       "      <td>Февраль</td>\n",
       "      <td>143567</td>\n",
       "      <td>105000</td>\n",
       "      <td>5000</td>\n",
       "      <td>771.0</td>\n",
       "    </tr>\n",
       "    <tr>\n",
       "      <th>2</th>\n",
       "      <td>Март</td>\n",
       "      <td>142613</td>\n",
       "      <td>105000</td>\n",
       "      <td>5000</td>\n",
       "      <td>752.0</td>\n",
       "    </tr>\n",
       "    <tr>\n",
       "      <th>3</th>\n",
       "      <td>Апрель</td>\n",
       "      <td>145891</td>\n",
       "      <td>105000</td>\n",
       "      <td>5000</td>\n",
       "      <td>818.0</td>\n",
       "    </tr>\n",
       "    <tr>\n",
       "      <th>4</th>\n",
       "      <td>Май</td>\n",
       "      <td>121243</td>\n",
       "      <td>110000</td>\n",
       "      <td>10000</td>\n",
       "      <td>112.0</td>\n",
       "    </tr>\n",
       "    <tr>\n",
       "      <th>5</th>\n",
       "      <td>Июнь</td>\n",
       "      <td>130403</td>\n",
       "      <td>105000</td>\n",
       "      <td>5000</td>\n",
       "      <td>508.0</td>\n",
       "    </tr>\n",
       "    <tr>\n",
       "      <th>6</th>\n",
       "      <td>Июль</td>\n",
       "      <td>132103</td>\n",
       "      <td>110000</td>\n",
       "      <td>10000</td>\n",
       "      <td>221.0</td>\n",
       "    </tr>\n",
       "    <tr>\n",
       "      <th>7</th>\n",
       "      <td>Август</td>\n",
       "      <td>141993</td>\n",
       "      <td>110000</td>\n",
       "      <td>10000</td>\n",
       "      <td>320.0</td>\n",
       "    </tr>\n",
       "    <tr>\n",
       "      <th>8</th>\n",
       "      <td>Сентябрь</td>\n",
       "      <td>120757</td>\n",
       "      <td>105000</td>\n",
       "      <td>5000</td>\n",
       "      <td>315.0</td>\n",
       "    </tr>\n",
       "    <tr>\n",
       "      <th>9</th>\n",
       "      <td>Октябрь</td>\n",
       "      <td>146884</td>\n",
       "      <td>105000</td>\n",
       "      <td>5000</td>\n",
       "      <td>838.0</td>\n",
       "    </tr>\n",
       "    <tr>\n",
       "      <th>10</th>\n",
       "      <td>Ноябрь</td>\n",
       "      <td>114935</td>\n",
       "      <td>110000</td>\n",
       "      <td>10000</td>\n",
       "      <td>49.0</td>\n",
       "    </tr>\n",
       "    <tr>\n",
       "      <th>11</th>\n",
       "      <td>Декабрь</td>\n",
       "      <td>115430</td>\n",
       "      <td>110000</td>\n",
       "      <td>10000</td>\n",
       "      <td>54.0</td>\n",
       "    </tr>\n",
       "  </tbody>\n",
       "</table>\n",
       "</div>"
      ],
      "text/plain": [
       "       Месяц  Доходы  Расходы  Расходы на маркетинг  ROI (в %)\n",
       "0     Январь  102732   105000                  5000      -45.0\n",
       "1    Февраль  143567   105000                  5000      771.0\n",
       "2       Март  142613   105000                  5000      752.0\n",
       "3     Апрель  145891   105000                  5000      818.0\n",
       "4        Май  121243   110000                 10000      112.0\n",
       "5       Июнь  130403   105000                  5000      508.0\n",
       "6       Июль  132103   110000                 10000      221.0\n",
       "7     Август  141993   110000                 10000      320.0\n",
       "8   Сентябрь  120757   105000                  5000      315.0\n",
       "9    Октябрь  146884   105000                  5000      838.0\n",
       "10    Ноябрь  114935   110000                 10000       49.0\n",
       "11   Декабрь  115430   110000                 10000       54.0"
      ]
     },
     "execution_count": 1,
     "metadata": {},
     "output_type": "execute_result"
    }
   ],
   "source": [
    "import pandas as pd\n",
    "import numpy as np\n",
    "\n",
    "np.random.seed(0)\n",
    "data = {'Месяц':['Январь','Февраль','Март','Апрель','Май','Июнь','Июль','Август','Сентябрь','Октябрь','Ноябрь','Декабрь'], \n",
    "        'Доходы': np.random.randint(100_000, 150_000, size=12),\n",
    "        'Расходы': np.array([100_000]*12),\n",
    "        'Расходы на маркетинг': np.random.choice([5000,10000], size=12),\n",
    "        'ROI (в %)': np.arange(12)} \n",
    "df = pd.DataFrame(data)\n",
    "df[\"Расходы\"] = np.where(df[\"Расходы на маркетинг\"] == 5000, df[\"Расходы\"]+5000, df[\"Расходы\"]+10000)\n",
    "df['ROI (в %)'] = ((df['Доходы']-df['Расходы'])/df['Расходы на маркетинг']*100).round()\n",
    "df"
   ]
  },
  {
   "cell_type": "markdown",
   "id": "07703772",
   "metadata": {},
   "source": [
    "Если метрика ROI меньше 0% — вы понесли убытки. Если равен 0% — вложения окупились, но прибыли нет. Если больше 0% — вы получили прибыль\n",
    "--"
   ]
  },
  {
   "cell_type": "markdown",
   "id": "b534908e",
   "metadata": {},
   "source": [
    "---"
   ]
  },
  {
   "cell_type": "markdown",
   "id": "eaa62415",
   "metadata": {},
   "source": [
    "<font color='fuchsia' size=5>CRR (Customer Retention Rate — коэффициент удержания клиентов)</font>\n",
    "===\n",
    "метрика показывает процент клиентов, которые возвращаются для совершения повторных покупок\n",
    "--\n",
    "<font color='green' size=5>формула:</font>\n",
    "    $\\large CRR=\\frac{(\\text{Количество клиентов в конце периода - Количество новых клиентов за период})}{\\text{Количество клиентов в начале расчетного периода}}*100 \\%$"
   ]
  },
  {
   "cell_type": "markdown",
   "id": "bdcb2630",
   "metadata": {},
   "source": [
    "**формула расчета \"Количество клиентов в конце периода\":**\n",
    "$\\scriptsize \\text{Количество клиентов в конце периода} =\\text{Количество клиентов в начале периода + Количество новых клиентов за период - Количество неактивных клиентов за период}$"
   ]
  },
  {
   "cell_type": "markdown",
   "id": "dc1ef0ea",
   "metadata": {},
   "source": [
    "<font color='brown' size=5>пример:</font>"
   ]
  },
  {
   "cell_type": "code",
   "execution_count": 2,
   "id": "fd7577ad",
   "metadata": {},
   "outputs": [
    {
     "data": {
      "text/html": [
       "<div>\n",
       "<style scoped>\n",
       "    .dataframe tbody tr th:only-of-type {\n",
       "        vertical-align: middle;\n",
       "    }\n",
       "\n",
       "    .dataframe tbody tr th {\n",
       "        vertical-align: top;\n",
       "    }\n",
       "\n",
       "    .dataframe thead th {\n",
       "        text-align: right;\n",
       "    }\n",
       "</style>\n",
       "<table border=\"1\" class=\"dataframe\">\n",
       "  <thead>\n",
       "    <tr style=\"text-align: right;\">\n",
       "      <th></th>\n",
       "      <th>CustomerID</th>\n",
       "      <th>CustomerPurchases</th>\n",
       "      <th>NewCustomerIndicator</th>\n",
       "    </tr>\n",
       "  </thead>\n",
       "  <tbody>\n",
       "    <tr>\n",
       "      <th>1</th>\n",
       "      <td>13</td>\n",
       "      <td>19</td>\n",
       "      <td>0</td>\n",
       "    </tr>\n",
       "    <tr>\n",
       "      <th>2</th>\n",
       "      <td>16</td>\n",
       "      <td>16</td>\n",
       "      <td>1</td>\n",
       "    </tr>\n",
       "    <tr>\n",
       "      <th>3</th>\n",
       "      <td>1</td>\n",
       "      <td>19</td>\n",
       "      <td>0</td>\n",
       "    </tr>\n",
       "    <tr>\n",
       "      <th>4</th>\n",
       "      <td>4</td>\n",
       "      <td>5</td>\n",
       "      <td>0</td>\n",
       "    </tr>\n",
       "    <tr>\n",
       "      <th>5</th>\n",
       "      <td>4</td>\n",
       "      <td>15</td>\n",
       "      <td>0</td>\n",
       "    </tr>\n",
       "    <tr>\n",
       "      <th>6</th>\n",
       "      <td>8</td>\n",
       "      <td>15</td>\n",
       "      <td>0</td>\n",
       "    </tr>\n",
       "    <tr>\n",
       "      <th>7</th>\n",
       "      <td>10</td>\n",
       "      <td>0</td>\n",
       "      <td>0</td>\n",
       "    </tr>\n",
       "    <tr>\n",
       "      <th>8</th>\n",
       "      <td>19</td>\n",
       "      <td>18</td>\n",
       "      <td>1</td>\n",
       "    </tr>\n",
       "    <tr>\n",
       "      <th>9</th>\n",
       "      <td>5</td>\n",
       "      <td>3</td>\n",
       "      <td>1</td>\n",
       "    </tr>\n",
       "    <tr>\n",
       "      <th>10</th>\n",
       "      <td>7</td>\n",
       "      <td>17</td>\n",
       "      <td>0</td>\n",
       "    </tr>\n",
       "    <tr>\n",
       "      <th>11</th>\n",
       "      <td>13</td>\n",
       "      <td>19</td>\n",
       "      <td>0</td>\n",
       "    </tr>\n",
       "    <tr>\n",
       "      <th>12</th>\n",
       "      <td>2</td>\n",
       "      <td>19</td>\n",
       "      <td>0</td>\n",
       "    </tr>\n",
       "    <tr>\n",
       "      <th>13</th>\n",
       "      <td>7</td>\n",
       "      <td>19</td>\n",
       "      <td>0</td>\n",
       "    </tr>\n",
       "    <tr>\n",
       "      <th>14</th>\n",
       "      <td>8</td>\n",
       "      <td>14</td>\n",
       "      <td>0</td>\n",
       "    </tr>\n",
       "    <tr>\n",
       "      <th>15</th>\n",
       "      <td>15</td>\n",
       "      <td>7</td>\n",
       "      <td>1</td>\n",
       "    </tr>\n",
       "    <tr>\n",
       "      <th>16</th>\n",
       "      <td>18</td>\n",
       "      <td>0</td>\n",
       "      <td>0</td>\n",
       "    </tr>\n",
       "    <tr>\n",
       "      <th>17</th>\n",
       "      <td>6</td>\n",
       "      <td>1</td>\n",
       "      <td>0</td>\n",
       "    </tr>\n",
       "    <tr>\n",
       "      <th>18</th>\n",
       "      <td>14</td>\n",
       "      <td>9</td>\n",
       "      <td>0</td>\n",
       "    </tr>\n",
       "    <tr>\n",
       "      <th>19</th>\n",
       "      <td>9</td>\n",
       "      <td>0</td>\n",
       "      <td>0</td>\n",
       "    </tr>\n",
       "    <tr>\n",
       "      <th>20</th>\n",
       "      <td>10</td>\n",
       "      <td>0</td>\n",
       "      <td>0</td>\n",
       "    </tr>\n",
       "  </tbody>\n",
       "</table>\n",
       "</div>"
      ],
      "text/plain": [
       "    CustomerID  CustomerPurchases  NewCustomerIndicator\n",
       "1           13                 19                     0\n",
       "2           16                 16                     1\n",
       "3            1                 19                     0\n",
       "4            4                  5                     0\n",
       "5            4                 15                     0\n",
       "6            8                 15                     0\n",
       "7           10                  0                     0\n",
       "8           19                 18                     1\n",
       "9            5                  3                     1\n",
       "10           7                 17                     0\n",
       "11          13                 19                     0\n",
       "12           2                 19                     0\n",
       "13           7                 19                     0\n",
       "14           8                 14                     0\n",
       "15          15                  7                     1\n",
       "16          18                  0                     0\n",
       "17           6                  1                     0\n",
       "18          14                  9                     0\n",
       "19           9                  0                     0\n",
       "20          10                  0                     0"
      ]
     },
     "execution_count": 2,
     "metadata": {},
     "output_type": "execute_result"
    }
   ],
   "source": [
    "np.random.seed(0)\n",
    "data_crr = {'CustomerID': np.random.randint(1, 20, size=20), \n",
    "        'CustomerPurchases': np.random.randint(0, 20, size=20),\n",
    "        'NewCustomerIndicator': np.array([0,1,0,0,0,0,0,1,1,0,0,0,0,0,1,0,0,0,0,0])} \n",
    "\n",
    "df_crr = pd.DataFrame(data_crr)\n",
    "df_crr.index = np.arange(1, len(df_crr)+1)\n",
    "df_crr[\"CustomerPurchases\"] = np.where(df_crr[\"CustomerID\"].isin([10,18,9]), \n",
    "                                        ~df_crr[\"CustomerPurchases\"] == 0, df_crr[\"CustomerPurchases\"])\n",
    "# 18,10,9 - неактивные клиенты\n",
    "# 5,19,16,15 - новые клиенты\n",
    "\n",
    "df_crr"
   ]
  },
  {
   "cell_type": "markdown",
   "id": "101e2849",
   "metadata": {},
   "source": [
    "$\\large 11_\\text{(Количество клиентов в начале периода)} - 3_\\text{(Количество неактивных клиентов)} + 4_\\text{(Количество новых клиентов)} = 12_\\text{(Количество клиентов в конце периода)}$"
   ]
  },
  {
   "cell_type": "markdown",
   "id": "d8809d63",
   "metadata": {},
   "source": [
    "$\\large CRR=\\frac{(\\text{12 - 4})}{\\text{11}}*100 \\% \\thickapprox 72\\%$"
   ]
  },
  {
   "cell_type": "markdown",
   "id": "5a4e5884",
   "metadata": {},
   "source": [
    "Метрика CRR, демонстрирует эффективность удержания клиентов. </br>Чем выше показатель, тем лучше работает стратегия удержания \n",
    "-- "
   ]
  },
  {
   "cell_type": "markdown",
   "id": "57ef4a56",
   "metadata": {},
   "source": [
    "---"
   ]
  },
  {
   "cell_type": "markdown",
   "id": "794ca808",
   "metadata": {},
   "source": [
    "<font color='fuchsia' size=5>CR (Churn rate — коэффициент оттока клиентов) </font>\n",
    "===\n",
    "метрика показывает процент оттока клиентов и вместе с тем - выручки\n",
    "--\n",
    "<font color='green' size=5>формула:</font>\n",
    "    $\\large CR=\\frac{(\\text{Количество клиентов в начале периода - Количество клиентов в конце периода})}{\\text{Количество клиентов в начале периода}}*100 \\%$"
   ]
  },
  {
   "cell_type": "markdown",
   "id": "e43d0216",
   "metadata": {},
   "source": [
    "<font color='brown' size=5>пример:</font>"
   ]
  },
  {
   "cell_type": "markdown",
   "id": "e272dbd8",
   "metadata": {},
   "source": [
    "Количество клиентов в начале периода (например за месяц) - **1500 клиентов** </br>\n",
    "Количество клиентов в конце периода (например за месяц) - **1600 клиентов** </br>\n",
    "\n",
    "$\\large CR = \\frac{(1500-1600)}{1500}*100 \\% \\thickapprox -7 \\%$"
   ]
  },
  {
   "cell_type": "markdown",
   "id": "6491a558",
   "metadata": {},
   "source": [
    "Допустимые значения Churn rate отличаются в зависимости от сферы деятельности предприятия. Норма для SaaS сервисов от 4 до 6%, для продуктов ежедневного спроса от 10 до 11%, для онлайн и цифрового телевидения от 11 до 13%. Отдельные нормы churn rate для новичков рынка и стартапов. Там показатель оттока может достигать 20%. </br>Отрицательное значение свидетельствует об отсутствии оттока клиентов\n",
    "--"
   ]
  }
 ],
 "metadata": {
  "kernelspec": {
   "display_name": "Python 3 (ipykernel)",
   "language": "python",
   "name": "python3"
  },
  "language_info": {
   "codemirror_mode": {
    "name": "ipython",
    "version": 3
   },
   "file_extension": ".py",
   "mimetype": "text/x-python",
   "name": "python",
   "nbconvert_exporter": "python",
   "pygments_lexer": "ipython3",
   "version": "3.10.5"
  }
 },
 "nbformat": 4,
 "nbformat_minor": 5
}

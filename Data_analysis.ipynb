{
 "cells": [
  {
   "cell_type": "markdown",
   "id": "d0ac511c",
   "metadata": {},
   "source": [
    "### Пример / Example\n",
    "# Exploratory Analysis Data (EDA, Разведочный Анализ Данных)"
   ]
  },
  {
   "cell_type": "markdown",
   "id": "25b9d53c",
   "metadata": {},
   "source": [
    "#### Импорт датасета и первичная проверка данных"
   ]
  },
  {
   "cell_type": "code",
   "execution_count": 1,
   "id": "1c0f7e58",
   "metadata": {},
   "outputs": [],
   "source": [
    "# импортируем библиотеки и загружаем датасет (стандартный из библиотеки seaborn)\n",
    "import seaborn as sns\n",
    "import pandas as pd\n",
    "\n",
    "df = sns.load_dataset(\"tips\")"
   ]
  },
  {
   "cell_type": "code",
   "execution_count": 2,
   "id": "9c597a5f",
   "metadata": {},
   "outputs": [
    {
     "data": {
      "text/html": [
       "<div>\n",
       "<style scoped>\n",
       "    .dataframe tbody tr th:only-of-type {\n",
       "        vertical-align: middle;\n",
       "    }\n",
       "\n",
       "    .dataframe tbody tr th {\n",
       "        vertical-align: top;\n",
       "    }\n",
       "\n",
       "    .dataframe thead th {\n",
       "        text-align: right;\n",
       "    }\n",
       "</style>\n",
       "<table border=\"1\" class=\"dataframe\">\n",
       "  <thead>\n",
       "    <tr style=\"text-align: right;\">\n",
       "      <th></th>\n",
       "      <th>total_bill</th>\n",
       "      <th>tip</th>\n",
       "      <th>sex</th>\n",
       "      <th>smoker</th>\n",
       "      <th>day</th>\n",
       "      <th>time</th>\n",
       "      <th>size</th>\n",
       "    </tr>\n",
       "  </thead>\n",
       "  <tbody>\n",
       "    <tr>\n",
       "      <th>0</th>\n",
       "      <td>16.99</td>\n",
       "      <td>1.01</td>\n",
       "      <td>Female</td>\n",
       "      <td>No</td>\n",
       "      <td>Sun</td>\n",
       "      <td>Dinner</td>\n",
       "      <td>2</td>\n",
       "    </tr>\n",
       "    <tr>\n",
       "      <th>1</th>\n",
       "      <td>10.34</td>\n",
       "      <td>1.66</td>\n",
       "      <td>Male</td>\n",
       "      <td>No</td>\n",
       "      <td>Sun</td>\n",
       "      <td>Dinner</td>\n",
       "      <td>3</td>\n",
       "    </tr>\n",
       "    <tr>\n",
       "      <th>2</th>\n",
       "      <td>21.01</td>\n",
       "      <td>3.50</td>\n",
       "      <td>Male</td>\n",
       "      <td>No</td>\n",
       "      <td>Sun</td>\n",
       "      <td>Dinner</td>\n",
       "      <td>3</td>\n",
       "    </tr>\n",
       "    <tr>\n",
       "      <th>3</th>\n",
       "      <td>23.68</td>\n",
       "      <td>3.31</td>\n",
       "      <td>Male</td>\n",
       "      <td>No</td>\n",
       "      <td>Sun</td>\n",
       "      <td>Dinner</td>\n",
       "      <td>2</td>\n",
       "    </tr>\n",
       "    <tr>\n",
       "      <th>4</th>\n",
       "      <td>24.59</td>\n",
       "      <td>3.61</td>\n",
       "      <td>Female</td>\n",
       "      <td>No</td>\n",
       "      <td>Sun</td>\n",
       "      <td>Dinner</td>\n",
       "      <td>4</td>\n",
       "    </tr>\n",
       "  </tbody>\n",
       "</table>\n",
       "</div>"
      ],
      "text/plain": [
       "   total_bill   tip     sex smoker  day    time  size\n",
       "0       16.99  1.01  Female     No  Sun  Dinner     2\n",
       "1       10.34  1.66    Male     No  Sun  Dinner     3\n",
       "2       21.01  3.50    Male     No  Sun  Dinner     3\n",
       "3       23.68  3.31    Male     No  Sun  Dinner     2\n",
       "4       24.59  3.61  Female     No  Sun  Dinner     4"
      ]
     },
     "execution_count": 2,
     "metadata": {},
     "output_type": "execute_result"
    }
   ],
   "source": [
    "# Набор данных содержит информацию об размере чека, \n",
    "# размере чаевых, также имеется информация о посетителе и его заказе\n",
    "\n",
    "df.head()"
   ]
  },
  {
   "cell_type": "code",
   "execution_count": 3,
   "id": "7ff8dfb6",
   "metadata": {},
   "outputs": [
    {
     "data": {
      "text/plain": [
       "(244, 7)"
      ]
     },
     "execution_count": 3,
     "metadata": {},
     "output_type": "execute_result"
    }
   ],
   "source": [
    "# Датасет состоит из 244 строк и 7 столбцов\n",
    "df.shape"
   ]
  },
  {
   "cell_type": "code",
   "execution_count": 4,
   "id": "0021f167",
   "metadata": {},
   "outputs": [
    {
     "data": {
      "text/plain": [
       "total_bill     float64\n",
       "tip            float64\n",
       "sex           category\n",
       "smoker        category\n",
       "day           category\n",
       "time          category\n",
       "size             int64\n",
       "dtype: object"
      ]
     },
     "execution_count": 4,
     "metadata": {},
     "output_type": "execute_result"
    }
   ],
   "source": [
    "# В датасете есть и количественные и категориальные переменные\n",
    "df.dtypes"
   ]
  },
  {
   "cell_type": "code",
   "execution_count": 5,
   "id": "7f775af6",
   "metadata": {},
   "outputs": [
    {
     "data": {
      "text/plain": [
       "0      0\n",
       "1      0\n",
       "2      0\n",
       "3      0\n",
       "4      0\n",
       "      ..\n",
       "239    0\n",
       "240    0\n",
       "241    0\n",
       "242    0\n",
       "243    0\n",
       "Length: 244, dtype: int64"
      ]
     },
     "execution_count": 5,
     "metadata": {},
     "output_type": "execute_result"
    }
   ],
   "source": [
    "# делаем проверку на наличие отсутствующих значений \n",
    "df.isna().sum() # по столбцам\n",
    "df.isna().sum(axis=1) # по строкам"
   ]
  },
  {
   "cell_type": "markdown",
   "id": "5f0a3d1e",
   "metadata": {},
   "source": [
    "### Проверка основных статистик данных датасета"
   ]
  },
  {
   "cell_type": "code",
   "execution_count": 6,
   "id": "150beb31",
   "metadata": {
    "scrolled": true
   },
   "outputs": [
    {
     "data": {
      "text/html": [
       "<div>\n",
       "<style scoped>\n",
       "    .dataframe tbody tr th:only-of-type {\n",
       "        vertical-align: middle;\n",
       "    }\n",
       "\n",
       "    .dataframe tbody tr th {\n",
       "        vertical-align: top;\n",
       "    }\n",
       "\n",
       "    .dataframe thead th {\n",
       "        text-align: right;\n",
       "    }\n",
       "</style>\n",
       "<table border=\"1\" class=\"dataframe\">\n",
       "  <thead>\n",
       "    <tr style=\"text-align: right;\">\n",
       "      <th></th>\n",
       "      <th>count</th>\n",
       "      <th>unique</th>\n",
       "      <th>top</th>\n",
       "      <th>freq</th>\n",
       "      <th>mean</th>\n",
       "      <th>std</th>\n",
       "      <th>min</th>\n",
       "      <th>25%</th>\n",
       "      <th>50%</th>\n",
       "      <th>75%</th>\n",
       "      <th>max</th>\n",
       "    </tr>\n",
       "  </thead>\n",
       "  <tbody>\n",
       "    <tr>\n",
       "      <th>total_bill</th>\n",
       "      <td>244.0</td>\n",
       "      <td>NaN</td>\n",
       "      <td>NaN</td>\n",
       "      <td>NaN</td>\n",
       "      <td>19.785943</td>\n",
       "      <td>8.902412</td>\n",
       "      <td>3.07</td>\n",
       "      <td>13.3475</td>\n",
       "      <td>17.795</td>\n",
       "      <td>24.1275</td>\n",
       "      <td>50.81</td>\n",
       "    </tr>\n",
       "    <tr>\n",
       "      <th>tip</th>\n",
       "      <td>244.0</td>\n",
       "      <td>NaN</td>\n",
       "      <td>NaN</td>\n",
       "      <td>NaN</td>\n",
       "      <td>2.998279</td>\n",
       "      <td>1.383638</td>\n",
       "      <td>1.0</td>\n",
       "      <td>2.0</td>\n",
       "      <td>2.9</td>\n",
       "      <td>3.5625</td>\n",
       "      <td>10.0</td>\n",
       "    </tr>\n",
       "    <tr>\n",
       "      <th>sex</th>\n",
       "      <td>244</td>\n",
       "      <td>2</td>\n",
       "      <td>Male</td>\n",
       "      <td>157</td>\n",
       "      <td>NaN</td>\n",
       "      <td>NaN</td>\n",
       "      <td>NaN</td>\n",
       "      <td>NaN</td>\n",
       "      <td>NaN</td>\n",
       "      <td>NaN</td>\n",
       "      <td>NaN</td>\n",
       "    </tr>\n",
       "    <tr>\n",
       "      <th>smoker</th>\n",
       "      <td>244</td>\n",
       "      <td>2</td>\n",
       "      <td>No</td>\n",
       "      <td>151</td>\n",
       "      <td>NaN</td>\n",
       "      <td>NaN</td>\n",
       "      <td>NaN</td>\n",
       "      <td>NaN</td>\n",
       "      <td>NaN</td>\n",
       "      <td>NaN</td>\n",
       "      <td>NaN</td>\n",
       "    </tr>\n",
       "    <tr>\n",
       "      <th>day</th>\n",
       "      <td>244</td>\n",
       "      <td>4</td>\n",
       "      <td>Sat</td>\n",
       "      <td>87</td>\n",
       "      <td>NaN</td>\n",
       "      <td>NaN</td>\n",
       "      <td>NaN</td>\n",
       "      <td>NaN</td>\n",
       "      <td>NaN</td>\n",
       "      <td>NaN</td>\n",
       "      <td>NaN</td>\n",
       "    </tr>\n",
       "    <tr>\n",
       "      <th>time</th>\n",
       "      <td>244</td>\n",
       "      <td>2</td>\n",
       "      <td>Dinner</td>\n",
       "      <td>176</td>\n",
       "      <td>NaN</td>\n",
       "      <td>NaN</td>\n",
       "      <td>NaN</td>\n",
       "      <td>NaN</td>\n",
       "      <td>NaN</td>\n",
       "      <td>NaN</td>\n",
       "      <td>NaN</td>\n",
       "    </tr>\n",
       "    <tr>\n",
       "      <th>size</th>\n",
       "      <td>244.0</td>\n",
       "      <td>NaN</td>\n",
       "      <td>NaN</td>\n",
       "      <td>NaN</td>\n",
       "      <td>2.569672</td>\n",
       "      <td>0.9511</td>\n",
       "      <td>1.0</td>\n",
       "      <td>2.0</td>\n",
       "      <td>2.0</td>\n",
       "      <td>3.0</td>\n",
       "      <td>6.0</td>\n",
       "    </tr>\n",
       "  </tbody>\n",
       "</table>\n",
       "</div>"
      ],
      "text/plain": [
       "            count unique     top freq       mean       std   min      25%  \\\n",
       "total_bill  244.0    NaN     NaN  NaN  19.785943  8.902412  3.07  13.3475   \n",
       "tip         244.0    NaN     NaN  NaN   2.998279  1.383638   1.0      2.0   \n",
       "sex           244      2    Male  157        NaN       NaN   NaN      NaN   \n",
       "smoker        244      2      No  151        NaN       NaN   NaN      NaN   \n",
       "day           244      4     Sat   87        NaN       NaN   NaN      NaN   \n",
       "time          244      2  Dinner  176        NaN       NaN   NaN      NaN   \n",
       "size        244.0    NaN     NaN  NaN   2.569672    0.9511   1.0      2.0   \n",
       "\n",
       "               50%      75%    max  \n",
       "total_bill  17.795  24.1275  50.81  \n",
       "tip            2.9   3.5625   10.0  \n",
       "sex            NaN      NaN    NaN  \n",
       "smoker         NaN      NaN    NaN  \n",
       "day            NaN      NaN    NaN  \n",
       "time           NaN      NaN    NaN  \n",
       "size           2.0      3.0    6.0  "
      ]
     },
     "execution_count": 6,
     "metadata": {},
     "output_type": "execute_result"
    }
   ],
   "source": [
    "# Посмотрим на основные статистические показатели для столбцов (включая категориальные)\n",
    "# Это также позволяет увидеть, есть ли в столбце какие-то сильно выбивающиеся значения\n",
    "\n",
    "# В данном случае таких показателей не навблюдается\n",
    "df.describe(include=\"all\").T.round(2)"
   ]
  },
  {
   "cell_type": "markdown",
   "id": "b67fff83",
   "metadata": {},
   "source": [
    "### Анализ данных (+визуализация)"
   ]
  },
  {
   "cell_type": "code",
   "execution_count": 7,
   "id": "bd511fa9",
   "metadata": {},
   "outputs": [
    {
     "data": {
      "text/html": [
       "<div>\n",
       "<style scoped>\n",
       "    .dataframe tbody tr th:only-of-type {\n",
       "        vertical-align: middle;\n",
       "    }\n",
       "\n",
       "    .dataframe tbody tr th {\n",
       "        vertical-align: top;\n",
       "    }\n",
       "\n",
       "    .dataframe thead th {\n",
       "        text-align: right;\n",
       "    }\n",
       "</style>\n",
       "<table border=\"1\" class=\"dataframe\">\n",
       "  <thead>\n",
       "    <tr style=\"text-align: right;\">\n",
       "      <th></th>\n",
       "      <th>sex</th>\n",
       "      <th>total_bill</th>\n",
       "      <th>tip</th>\n",
       "      <th>size</th>\n",
       "    </tr>\n",
       "  </thead>\n",
       "  <tbody>\n",
       "    <tr>\n",
       "      <th>0</th>\n",
       "      <td>Male</td>\n",
       "      <td>20.744076</td>\n",
       "      <td>3.089618</td>\n",
       "      <td>2.630573</td>\n",
       "    </tr>\n",
       "    <tr>\n",
       "      <th>1</th>\n",
       "      <td>Female</td>\n",
       "      <td>18.056897</td>\n",
       "      <td>2.833448</td>\n",
       "      <td>2.459770</td>\n",
       "    </tr>\n",
       "  </tbody>\n",
       "</table>\n",
       "</div>"
      ],
      "text/plain": [
       "      sex  total_bill       tip      size\n",
       "0    Male   20.744076  3.089618  2.630573\n",
       "1  Female   18.056897  2.833448  2.459770"
      ]
     },
     "execution_count": 7,
     "metadata": {},
     "output_type": "execute_result"
    }
   ],
   "source": [
    "# Посмотрим более подробно какой средний чек, чаевые и какой средний размер заказа в разрезе пола\n",
    "sex = df.groupby(\"sex\").agg('mean').reset_index()\n",
    "sex"
   ]
  },
  {
   "cell_type": "code",
   "execution_count": 8,
   "id": "5194aa3b",
   "metadata": {},
   "outputs": [
    {
     "data": {
      "text/plain": [
       "<AxesSubplot:title={'center':'Средний Чек, Чаевые и Размер заказа в разрезе пола'}, xlabel='SEX'>"
      ]
     },
     "execution_count": 8,
     "metadata": {},
     "output_type": "execute_result"
    },
    {
     "data": {
      "image/png": "[encoded data removed]",
      "text/plain": [
       "<Figure size 432x288 with 1 Axes>"
      ]
     },
     "metadata": {
      "needs_background": "light"
     },
     "output_type": "display_data"
    }
   ],
   "source": [
    "# Построим график для наглядности\n",
    "sex.plot(kind = \"bar\", xlabel = \"SEX\", grid = True, x = \"sex\", \n",
    "         title = \"Средний Чек, Чаевые и Размер заказа в разрезе пола\", rot=True)"
   ]
  },
  {
   "cell_type": "code",
   "execution_count": 9,
   "id": "eefd21eb",
   "metadata": {},
   "outputs": [
    {
     "data": {
      "text/plain": [
       "<AxesSubplot:title={'center':'Соотношение посетителей'}>"
      ]
     },
     "execution_count": 9,
     "metadata": {},
     "output_type": "execute_result"
    },
    {
     "data": {
      "image/png": "[encoded data removed]",
      "text/plain": [
       "<Figure size 432x288 with 1 Axes>"
      ]
     },
     "metadata": {},
     "output_type": "display_data"
    }
   ],
   "source": [
    "# Посмотрим общее соотношение посетителей по полу\n",
    "# по количеству \n",
    "# df[\"sex\"].value_counts()  \n",
    "# либо по долям \n",
    "Sex_Percentage = df[\"sex\"].value_counts(normalize=True)*100\n",
    "Sex_Percentage.plot(kind = \"pie\", autopct=\"%.1f\", \n",
    "                    title = \"Соотношение посетителей\", ylabel='', fontsize=15, colors = ['green', 'red'])"
   ]
  },
  {
   "cell_type": "code",
   "execution_count": 10,
   "id": "ef5bb003",
   "metadata": {},
   "outputs": [
    {
     "data": {
      "text/plain": [
       "<AxesSubplot:title={'center':'Cумма чека по дням'}, xlabel='day'>"
      ]
     },
     "execution_count": 10,
     "metadata": {},
     "output_type": "execute_result"
    },
    {
     "data": {
      "image/png": "[encoded data removed]",
      "text/plain": [
       "<Figure size 432x288 with 1 Axes>"
      ]
     },
     "metadata": {
      "needs_background": "light"
     },
     "output_type": "display_data"
    }
   ],
   "source": [
    "# Посмотрим какая сумма чека получается по дням недели \n",
    "df.groupby(\"day\")[\"total_bill\"].sum().round(2).plot(kind=\"bar\", rot=False, \n",
    "mark_right = False, color = \"green\", fontsize = 15, grid=True, title=\"Cумма чека по дням\")"
   ]
  },
  {
   "cell_type": "code",
   "execution_count": 11,
   "id": "2d3c6eda",
   "metadata": {},
   "outputs": [
    {
     "data": {
      "text/html": [
       "<div>\n",
       "<style scoped>\n",
       "    .dataframe tbody tr th:only-of-type {\n",
       "        vertical-align: middle;\n",
       "    }\n",
       "\n",
       "    .dataframe tbody tr th {\n",
       "        vertical-align: top;\n",
       "    }\n",
       "\n",
       "    .dataframe thead th {\n",
       "        text-align: right;\n",
       "    }\n",
       "</style>\n",
       "<table border=\"1\" class=\"dataframe\">\n",
       "  <thead>\n",
       "    <tr style=\"text-align: right;\">\n",
       "      <th></th>\n",
       "      <th>total_bill</th>\n",
       "      <th>tip</th>\n",
       "      <th>sex</th>\n",
       "      <th>smoker</th>\n",
       "      <th>day</th>\n",
       "      <th>time</th>\n",
       "      <th>size</th>\n",
       "    </tr>\n",
       "  </thead>\n",
       "  <tbody>\n",
       "    <tr>\n",
       "      <th>170</th>\n",
       "      <td>50.81</td>\n",
       "      <td>10.0</td>\n",
       "      <td>Male</td>\n",
       "      <td>Yes</td>\n",
       "      <td>Sat</td>\n",
       "      <td>Dinner</td>\n",
       "      <td>3</td>\n",
       "    </tr>\n",
       "  </tbody>\n",
       "</table>\n",
       "</div>"
      ],
      "text/plain": [
       "     total_bill   tip   sex smoker  day    time  size\n",
       "170       50.81  10.0  Male    Yes  Sat  Dinner     3"
      ]
     },
     "execution_count": 11,
     "metadata": {},
     "output_type": "execute_result"
    }
   ],
   "source": [
    "# Пример задания: найти посетителя, который оставил максимальные чаевые?\n",
    "df[df[\"tip\"] == df[\"tip\"].max()]"
   ]
  },
  {
   "cell_type": "code",
   "execution_count": 12,
   "id": "bf1c3be3",
   "metadata": {},
   "outputs": [
    {
     "data": {
      "text/plain": [
       "<AxesSubplot:xlabel='smoker', ylabel='total_bill'>"
      ]
     },
     "execution_count": 12,
     "metadata": {},
     "output_type": "execute_result"
    },
    {
     "data": {
      "image/png": "[encoded data removed]",
      "text/plain": [
       "<Figure size 432x288 with 1 Axes>"
      ]
     },
     "metadata": {
      "needs_background": "light"
     },
     "output_type": "display_data"
    }
   ],
   "source": [
    "#Сравним количество чаевых, оставляемых среди курящих и некурящих, по признаку пола\n",
    "sns.barplot(x=\"smoker\", y=\"total_bill\", data=df, hue=\"sex\")"
   ]
  },
  {
   "cell_type": "code",
   "execution_count": 13,
   "id": "6aad11c1",
   "metadata": {},
   "outputs": [
    {
     "data": {
      "text/plain": [
       "[Text(0, 0.5, 'Количество'),\n",
       " Text(0.5, 0, ''),\n",
       " Text(0.5, 1.0, 'Количество курящих и некурящих')]"
      ]
     },
     "execution_count": 13,
     "metadata": {},
     "output_type": "execute_result"
    },
    {
     "data": {
      "image/png": "[encoded data removed]",
      "text/plain": [
       "<Figure size 432x288 with 1 Axes>"
      ]
     },
     "metadata": {
      "needs_background": "light"
     },
     "output_type": "display_data"
    }
   ],
   "source": [
    "#Посчитаем число курящих и некурящих посетителей по признаку пола\n",
    "smokers = df.groupby(\"sex\")[\"smoker\"].value_counts().reset_index()\n",
    "\n",
    "# sns.set_style('darkgrid')\n",
    "# sns.set_palette('Set1')\n",
    "sns.barplot(x=\"level_1\", y=\"smoker\", hue=\"sex\", data=smokers).set(ylabel='Количество',xlabel='',title=\"Количество курящих и некурящих\")"
   ]
  },
  {
   "cell_type": "code",
   "execution_count": 14,
   "id": "73ddf6e3",
   "metadata": {},
   "outputs": [
    {
     "data": {
      "text/plain": [
       "<AxesSubplot:>"
      ]
     },
     "execution_count": 14,
     "metadata": {},
     "output_type": "execute_result"
    },
    {
     "data": {
      "image/png": "[encoded data removed]",
      "text/plain": [
       "<Figure size 432x288 with 2 Axes>"
      ]
     },
     "metadata": {
      "needs_background": "light"
     },
     "output_type": "display_data"
    }
   ],
   "source": [
    "# Проверка корреляции по датасету (количественных переменных)\n",
    "sns.heatmap(df.corr(), annot=True, cmap=\"coolwarm\")"
   ]
  },
  {
   "cell_type": "code",
   "execution_count": 15,
   "id": "ec29f966",
   "metadata": {},
   "outputs": [
    {
     "data": {
      "text/plain": [
       "[Text(0.5, 0, 'Размер чека'),\n",
       " Text(0, 0.5, 'Размер чаевых'),\n",
       " Text(0.5, 1.0, 'Корреляция чека и чаевых')]"
      ]
     },
     "execution_count": 15,
     "metadata": {},
     "output_type": "execute_result"
    },
    {
     "data": {
      "image/png": "[encoded data removed]",
      "text/plain": [
       "<Figure size 432x288 with 1 Axes>"
      ]
     },
     "metadata": {
      "needs_background": "light"
     },
     "output_type": "display_data"
    }
   ],
   "source": [
    "# Отношение чаевых к общему чеку\n",
    "sns.scatterplot(x = \"total_bill\", y=\"tip\", data =df).set(xlabel=\"Размер чека\", ylabel=\"Размер чаевых\", title=\"Корреляция чека и чаевых\")"
   ]
  },
  {
   "cell_type": "markdown",
   "id": "8cc4bd11",
   "metadata": {},
   "source": [
    "# Анализ с использованием гипотез"
   ]
  },
  {
   "cell_type": "markdown",
   "id": "40bb891f",
   "metadata": {},
   "source": [
    "#### Критерий хи-квадрат "
   ]
  },
  {
   "cell_type": "code",
   "execution_count": 16,
   "id": "0ca94050",
   "metadata": {},
   "outputs": [
    {
     "data": {
      "text/html": [
       "<div>\n",
       "<style scoped>\n",
       "    .dataframe tbody tr th:only-of-type {\n",
       "        vertical-align: middle;\n",
       "    }\n",
       "\n",
       "    .dataframe tbody tr th {\n",
       "        vertical-align: top;\n",
       "    }\n",
       "\n",
       "    .dataframe thead th {\n",
       "        text-align: right;\n",
       "    }\n",
       "</style>\n",
       "<table border=\"1\" class=\"dataframe\">\n",
       "  <thead>\n",
       "    <tr style=\"text-align: right;\">\n",
       "      <th></th>\n",
       "      <th>sex</th>\n",
       "      <th>level_1</th>\n",
       "      <th>smoker</th>\n",
       "    </tr>\n",
       "  </thead>\n",
       "  <tbody>\n",
       "    <tr>\n",
       "      <th>0</th>\n",
       "      <td>Male</td>\n",
       "      <td>No</td>\n",
       "      <td>97</td>\n",
       "    </tr>\n",
       "    <tr>\n",
       "      <th>1</th>\n",
       "      <td>Male</td>\n",
       "      <td>Yes</td>\n",
       "      <td>60</td>\n",
       "    </tr>\n",
       "    <tr>\n",
       "      <th>2</th>\n",
       "      <td>Female</td>\n",
       "      <td>No</td>\n",
       "      <td>54</td>\n",
       "    </tr>\n",
       "    <tr>\n",
       "      <th>3</th>\n",
       "      <td>Female</td>\n",
       "      <td>Yes</td>\n",
       "      <td>33</td>\n",
       "    </tr>\n",
       "  </tbody>\n",
       "</table>\n",
       "</div>"
      ],
      "text/plain": [
       "      sex level_1  smoker\n",
       "0    Male      No      97\n",
       "1    Male     Yes      60\n",
       "2  Female      No      54\n",
       "3  Female     Yes      33"
      ]
     },
     "execution_count": 16,
     "metadata": {},
     "output_type": "execute_result"
    }
   ],
   "source": [
    "smokers"
   ]
  },
  {
   "cell_type": "code",
   "execution_count": 17,
   "id": "ad3c0c90",
   "metadata": {},
   "outputs": [
    {
     "data": {
      "text/html": [
       "<div>\n",
       "<style scoped>\n",
       "    .dataframe tbody tr th:only-of-type {\n",
       "        vertical-align: middle;\n",
       "    }\n",
       "\n",
       "    .dataframe tbody tr th {\n",
       "        vertical-align: top;\n",
       "    }\n",
       "\n",
       "    .dataframe thead th {\n",
       "        text-align: right;\n",
       "    }\n",
       "</style>\n",
       "<table border=\"1\" class=\"dataframe\">\n",
       "  <thead>\n",
       "    <tr style=\"text-align: right;\">\n",
       "      <th>level_1</th>\n",
       "      <th>sex</th>\n",
       "      <th>Yes</th>\n",
       "      <th>No</th>\n",
       "      <th>Total</th>\n",
       "    </tr>\n",
       "  </thead>\n",
       "  <tbody>\n",
       "    <tr>\n",
       "      <th>0</th>\n",
       "      <td>Male</td>\n",
       "      <td>60.0</td>\n",
       "      <td>97.0</td>\n",
       "      <td>78.5</td>\n",
       "    </tr>\n",
       "    <tr>\n",
       "      <th>1</th>\n",
       "      <td>Female</td>\n",
       "      <td>33.0</td>\n",
       "      <td>54.0</td>\n",
       "      <td>43.5</td>\n",
       "    </tr>\n",
       "    <tr>\n",
       "      <th>2</th>\n",
       "      <td>Total</td>\n",
       "      <td>46.5</td>\n",
       "      <td>75.5</td>\n",
       "      <td>61.0</td>\n",
       "    </tr>\n",
       "  </tbody>\n",
       "</table>\n",
       "</div>"
      ],
      "text/plain": [
       "level_1     sex   Yes    No  Total\n",
       "0          Male  60.0  97.0   78.5\n",
       "1        Female  33.0  54.0   43.5\n",
       "2         Total  46.5  75.5   61.0"
      ]
     },
     "execution_count": 17,
     "metadata": {},
     "output_type": "execute_result"
    }
   ],
   "source": [
    "# Создаем сводную таблицу для переменных\n",
    "smokers.pivot_table(index=\"sex\", columns=\"level_1\", values=\"smoker\", margins=True, margins_name='Total').reset_index()"
   ]
  },
  {
   "cell_type": "code",
   "execution_count": 18,
   "id": "2c68db4b",
   "metadata": {},
   "outputs": [],
   "source": [
    "# Гипотеза H0 - нет взаимосвязи между переменными пола и курением\n",
    "# Гипотеза H1 - есть взаимосвязь между переменными пола и курением"
   ]
  },
  {
   "cell_type": "code",
   "execution_count": 19,
   "id": "5e6c04bf",
   "metadata": {},
   "outputs": [
    {
     "name": "stdout",
     "output_type": "stream",
     "text": [
      "p показатель = 1.0\n",
      "Отобранные Переменные Независимы (H0 правдива)\n",
      "---\n",
      "0.0\n",
      "1\n",
      "[[59.84016393 97.15983607]\n",
      " [33.15983607 53.84016393]]\n"
     ]
    }
   ],
   "source": [
    "#Посчитаем Критерий хи-квадрат\n",
    "from scipy.stats import chi2_contingency\n",
    "\n",
    "# задаем данные\n",
    "data = [[60,97], [33,54]]\n",
    "stat, p, dof, expected = chi2_contingency(data)\n",
    "\n",
    "# альфа значение и p-показатель \n",
    "alpha = 0.05\n",
    "print(\"p показатель = \" + str(p))\n",
    "\n",
    "if p <= alpha:\n",
    "    print('Отобранные Переменные Зависимы (H0 не правдива)')\n",
    "else:\n",
    "    print('Отобранные Переменные Независимы (H0 правдива)')\n",
    "print(\"---\")\n",
    "print(stat)\n",
    "print(dof)\n",
    "print(expected)"
   ]
  },
  {
   "cell_type": "markdown",
   "id": "b70c9394",
   "metadata": {},
   "source": [
    "### Сделаем проверку на зависимость по критерию хи-квадрат для переменных пола и дней посещения"
   ]
  },
  {
   "cell_type": "code",
   "execution_count": 20,
   "id": "c5069b36",
   "metadata": {},
   "outputs": [],
   "source": [
    "#### Гипотеза H0 - нет взаимосвязи между переменными пола и днями посещения\n",
    "#### Гипотеза H1 - есть взаимосвязь между переменными пола и днями посещения"
   ]
  },
  {
   "cell_type": "code",
   "execution_count": 21,
   "id": "47a27656",
   "metadata": {},
   "outputs": [
    {
     "data": {
      "text/html": [
       "<div>\n",
       "<style scoped>\n",
       "    .dataframe tbody tr th:only-of-type {\n",
       "        vertical-align: middle;\n",
       "    }\n",
       "\n",
       "    .dataframe tbody tr th {\n",
       "        vertical-align: top;\n",
       "    }\n",
       "\n",
       "    .dataframe thead th {\n",
       "        text-align: right;\n",
       "    }\n",
       "</style>\n",
       "<table border=\"1\" class=\"dataframe\">\n",
       "  <thead>\n",
       "    <tr style=\"text-align: right;\">\n",
       "      <th></th>\n",
       "      <th>sex</th>\n",
       "      <th>level_1</th>\n",
       "      <th>day</th>\n",
       "    </tr>\n",
       "  </thead>\n",
       "  <tbody>\n",
       "    <tr>\n",
       "      <th>0</th>\n",
       "      <td>Male</td>\n",
       "      <td>Sat</td>\n",
       "      <td>59</td>\n",
       "    </tr>\n",
       "    <tr>\n",
       "      <th>1</th>\n",
       "      <td>Male</td>\n",
       "      <td>Sun</td>\n",
       "      <td>58</td>\n",
       "    </tr>\n",
       "    <tr>\n",
       "      <th>2</th>\n",
       "      <td>Male</td>\n",
       "      <td>Thur</td>\n",
       "      <td>30</td>\n",
       "    </tr>\n",
       "    <tr>\n",
       "      <th>3</th>\n",
       "      <td>Male</td>\n",
       "      <td>Fri</td>\n",
       "      <td>10</td>\n",
       "    </tr>\n",
       "    <tr>\n",
       "      <th>4</th>\n",
       "      <td>Female</td>\n",
       "      <td>Thur</td>\n",
       "      <td>32</td>\n",
       "    </tr>\n",
       "    <tr>\n",
       "      <th>5</th>\n",
       "      <td>Female</td>\n",
       "      <td>Sat</td>\n",
       "      <td>28</td>\n",
       "    </tr>\n",
       "    <tr>\n",
       "      <th>6</th>\n",
       "      <td>Female</td>\n",
       "      <td>Sun</td>\n",
       "      <td>18</td>\n",
       "    </tr>\n",
       "    <tr>\n",
       "      <th>7</th>\n",
       "      <td>Female</td>\n",
       "      <td>Fri</td>\n",
       "      <td>9</td>\n",
       "    </tr>\n",
       "  </tbody>\n",
       "</table>\n",
       "</div>"
      ],
      "text/plain": [
       "      sex level_1  day\n",
       "0    Male     Sat   59\n",
       "1    Male     Sun   58\n",
       "2    Male    Thur   30\n",
       "3    Male     Fri   10\n",
       "4  Female    Thur   32\n",
       "5  Female     Sat   28\n",
       "6  Female     Sun   18\n",
       "7  Female     Fri    9"
      ]
     },
     "execution_count": 21,
     "metadata": {},
     "output_type": "execute_result"
    }
   ],
   "source": [
    "# Подготовим таблицу для анализа\n",
    "Pdays = df.groupby(\"sex\")[\"day\"].value_counts().reset_index()\n",
    "Pdays.sort_values(by=\"sex\")"
   ]
  },
  {
   "cell_type": "code",
   "execution_count": 22,
   "id": "4189800b",
   "metadata": {},
   "outputs": [
    {
     "data": {
      "text/html": [
       "<div>\n",
       "<style scoped>\n",
       "    .dataframe tbody tr th:only-of-type {\n",
       "        vertical-align: middle;\n",
       "    }\n",
       "\n",
       "    .dataframe tbody tr th {\n",
       "        vertical-align: top;\n",
       "    }\n",
       "\n",
       "    .dataframe thead th {\n",
       "        text-align: right;\n",
       "    }\n",
       "</style>\n",
       "<table border=\"1\" class=\"dataframe\">\n",
       "  <thead>\n",
       "    <tr style=\"text-align: right;\">\n",
       "      <th>level_1</th>\n",
       "      <th>Thur</th>\n",
       "      <th>Fri</th>\n",
       "      <th>Sat</th>\n",
       "      <th>Sun</th>\n",
       "      <th>Total</th>\n",
       "    </tr>\n",
       "    <tr>\n",
       "      <th>sex</th>\n",
       "      <th></th>\n",
       "      <th></th>\n",
       "      <th></th>\n",
       "      <th></th>\n",
       "      <th></th>\n",
       "    </tr>\n",
       "  </thead>\n",
       "  <tbody>\n",
       "    <tr>\n",
       "      <th>Male</th>\n",
       "      <td>30</td>\n",
       "      <td>10.0</td>\n",
       "      <td>59.0</td>\n",
       "      <td>58</td>\n",
       "      <td>39.25</td>\n",
       "    </tr>\n",
       "    <tr>\n",
       "      <th>Female</th>\n",
       "      <td>32</td>\n",
       "      <td>9.0</td>\n",
       "      <td>28.0</td>\n",
       "      <td>18</td>\n",
       "      <td>21.75</td>\n",
       "    </tr>\n",
       "    <tr>\n",
       "      <th>Total</th>\n",
       "      <td>31</td>\n",
       "      <td>9.5</td>\n",
       "      <td>43.5</td>\n",
       "      <td>38</td>\n",
       "      <td>30.50</td>\n",
       "    </tr>\n",
       "  </tbody>\n",
       "</table>\n",
       "</div>"
      ],
      "text/plain": [
       "level_1  Thur   Fri   Sat  Sun  Total\n",
       "sex                                  \n",
       "Male       30  10.0  59.0   58  39.25\n",
       "Female     32   9.0  28.0   18  21.75\n",
       "Total      31   9.5  43.5   38  30.50"
      ]
     },
     "execution_count": 22,
     "metadata": {},
     "output_type": "execute_result"
    }
   ],
   "source": [
    "# Создадим сводную таблицу\n",
    "Pdays.pivot_table(index=\"sex\", columns=\"level_1\", values=\"day\", margins=True, margins_name=\"Total\")"
   ]
  },
  {
   "cell_type": "code",
   "execution_count": 23,
   "id": "560ec227",
   "metadata": {},
   "outputs": [
    {
     "name": "stdout",
     "output_type": "stream",
     "text": [
      "p показатель = 0.004180302092822257\n",
      "Отобранные Переменные Зависимы (H0 не правдива)\n",
      "---\n",
      "13.22200137240661\n",
      "3\n",
      "[[39.89344262 12.22540984 55.9795082  48.90163934]\n",
      " [22.10655738  6.77459016 31.0204918  27.09836066]]\n"
     ]
    }
   ],
   "source": [
    "#Посчитаем Критерий хи-квадрат\n",
    "\n",
    "# задаем данные\n",
    "data = [[30,10,59,58], [32,9,28,18]]\n",
    "stat, p, dof, expected = chi2_contingency(data)\n",
    "\n",
    "# альфа значение и p-показатель \n",
    "alpha = 0.05\n",
    "print(\"p показатель = \" + str(p))\n",
    "\n",
    "if p <= alpha:\n",
    "    print('Отобранные Переменные Зависимы (H0 не правдива)')\n",
    "else:\n",
    "    print('Отобранные Переменные Независимы (H0 правдива)')\n",
    "print(\"---\")\n",
    "print(stat)\n",
    "print(dof)\n",
    "print(expected)"
   ]
  },
  {
   "cell_type": "markdown",
   "id": "9ee7ec75",
   "metadata": {},
   "source": [
    "#### Исходя из результата анализа, можно утверждать, \n",
    "#### что пол посетителя взаимосвязан с днями посещения, \n",
    "#### т.е. мужчины и женщины имеют различные предпочтения по дням посещения ресторана"
   ]
  },
  {
   "cell_type": "code",
   "execution_count": 24,
   "id": "ff1d659d",
   "metadata": {},
   "outputs": [
    {
     "data": {
      "text/plain": [
       "<AxesSubplot:xlabel='level_1', ylabel='day'>"
      ]
     },
     "execution_count": 24,
     "metadata": {},
     "output_type": "execute_result"
    },
    {
     "data": {
      "image/png": "[encoded data removed]",
      "text/plain": [
       "<Figure size 432x288 with 1 Axes>"
      ]
     },
     "metadata": {
      "needs_background": "light"
     },
     "output_type": "display_data"
    }
   ],
   "source": [
    "# В дополнение построим график \n",
    "Pdays\n",
    "sns.lineplot(x = \"level_1\", y = \"day\", data= Pdays, hue=\"sex\")"
   ]
  },
  {
   "cell_type": "code",
   "execution_count": null,
   "id": "7ccdb226",
   "metadata": {},
   "outputs": [],
   "source": []
  }
 ],
 "metadata": {
  "kernelspec": {
   "display_name": "Python 3 (ipykernel)",
   "language": "python",
   "name": "python3"
  },
  "language_info": {
   "codemirror_mode": {
    "name": "ipython",
    "version": 3
   },
   "file_extension": ".py",
   "mimetype": "text/x-python",
   "name": "python",
   "nbconvert_exporter": "python",
   "pygments_lexer": "ipython3",
   "version": "3.10.5"
  }
 },
 "nbformat": 4,
 "nbformat_minor": 5
}
